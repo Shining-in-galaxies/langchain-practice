{
 "cells": [
  {
   "cell_type": "code",
   "execution_count": 1,
   "id": "602fcf04-3c23-4bce-a428-d9f63903d15b",
   "metadata": {},
   "outputs": [],
   "source": [
    "from langchain_community.document_loaders import PyPDFLoader\n",
    "\n",
    "loader = PyPDFLoader(\"sample.pdf\")\n",
    "pages = loader.load_and_split()"
   ]
  },
  {
   "cell_type": "code",
   "execution_count": 2,
   "id": "ec6b9618-a8cb-4eee-a856-5ff479737d97",
   "metadata": {},
   "outputs": [
    {
     "name": "stdout",
     "output_type": "stream",
     "text": [
      "From: Admission Office\n",
      "To: Ms. CAO, CHENXIN\n",
      "Longmenzhen, Jinniu District\n",
      "Chengdu, Sichuan\n",
      "Chengdu SICHUAN 610081\n",
      "China (CH)\n"
     ]
    },
    {
     "data": {
      "text/plain": [
       "{'source': 'sample.pdf', 'page': 0}"
      ]
     },
     "execution_count": 2,
     "metadata": {},
     "output_type": "execute_result"
    }
   ],
   "source": [
    "len(pages)\n",
    "page = pages[0]\n",
    "print(page.page_content[0:500])\n",
    "page.metadata"
   ]
  },
  {
   "cell_type": "code",
   "execution_count": 3,
   "id": "9c54d335-7f74-42a4-bb72-e8fe3c678f0e",
   "metadata": {},
   "outputs": [],
   "source": [
    "from dotenv import load_dotenv\n",
    "import os\n",
    "\n",
    "load_dotenv()\n",
    "\n",
    "openai_api_key = os.environ.get(\"OPENAI_API_KEY\")\n",
    "langchain_tracing_v2 = os.environ.get(\"LANGCHAIN_TRACING_V2\")\n",
    "langchain_api_key = os.environ.get(\"LANGCHAIN_API_KEY\")\n",
    "travily_api_key = os.environ.get(\"TRAVILY_API_KEY\")\n",
    "wolfram_alpha_appid = os.environ.get(\"WOLFRAM_ALPHA_APPID\")"
   ]
  },
  {
   "cell_type": "code",
   "execution_count": 4,
   "id": "328507fb-1c36-4b24-b3e7-8f58fe115e93",
   "metadata": {},
   "outputs": [],
   "source": [
    "from langchain_community.document_loaders.blob_loaders.youtube_audio import (\n",
    "    YoutubeAudioLoader,\n",
    ")\n",
    "from langchain_community.document_loaders.generic import GenericLoader\n",
    "from langchain.document_loaders.parsers.audio import (\n",
    "OpenAIWhisperParser,\n",
    "OpenAIWhisperParserLocal,\n",
    ")"
   ]
  },
  {
   "cell_type": "code",
   "execution_count": 5,
   "id": "aeb633b4-538b-4e8b-9e16-a707e5c42091",
   "metadata": {},
   "outputs": [],
   "source": [
    "# set a flag to switch between local and remote parsing\n",
    "# change this to True if you want to use local parsing\n",
    "local = False"
   ]
  },
  {
   "cell_type": "code",
   "execution_count": 6,
   "id": "7904dfdb-3eae-4b4a-9b0a-3853e97e104a",
   "metadata": {
    "scrolled": true
   },
   "outputs": [
    {
     "name": "stdout",
     "output_type": "stream",
     "text": [
      "[youtube] Extracting URL: https://youtu.be/kCc8FmEb1nY\n",
      "[youtube] kCc8FmEb1nY: Downloading webpage\n",
      "[youtube] kCc8FmEb1nY: Downloading ios player API JSON\n",
      "[youtube] kCc8FmEb1nY: Downloading android player API JSON\n",
      "[youtube] kCc8FmEb1nY: Downloading m3u8 information\n",
      "[info] kCc8FmEb1nY: Downloading 1 format(s): 140\n",
      "[download] /home/gisela/Downloads/YouTube/Let's build GPT： from scratch, in code, spelled out..m4a has already been downloaded\n",
      "[download] 100% of  107.73MiB\n",
      "[ExtractAudio] Not converting audio /home/gisela/Downloads/YouTube/Let's build GPT： from scratch, in code, spelled out..m4a; file is already in target format m4a\n",
      "[youtube] Extracting URL: https://youtu.be/VMj-3S1tku0\n",
      "[youtube] VMj-3S1tku0: Downloading webpage\n",
      "[youtube] VMj-3S1tku0: Downloading ios player API JSON\n",
      "[youtube] VMj-3S1tku0: Downloading android player API JSON\n",
      "[youtube] VMj-3S1tku0: Downloading m3u8 information\n",
      "[info] VMj-3S1tku0: Downloading 1 format(s): 140\n",
      "[download] Destination: /home/gisela/Downloads/YouTube/The spelled-out intro to neural networks and backpropagation： building micrograd.m4a\n",
      "[download] 100% of  135.08MiB in 00:00:09 at 14.73MiB/s    \n",
      "[FixupM4a] Correcting container of \"/home/gisela/Downloads/YouTube/The spelled-out intro to neural networks and backpropagation： building micrograd.m4a\"\n",
      "[ExtractAudio] Not converting audio /home/gisela/Downloads/YouTube/The spelled-out intro to neural networks and backpropagation： building micrograd.m4a; file is already in target format m4a\n",
      "Transcribing part 1!\n",
      "Transcribing part 2!\n",
      "Transcribing part 3!\n",
      "Transcribing part 4!\n",
      "Transcribing part 5!\n",
      "Transcribing part 6!\n",
      "Transcribing part 1!\n",
      "Transcribing part 2!\n",
      "Transcribing part 3!\n",
      "Transcribing part 4!\n",
      "Transcribing part 5!\n",
      "Transcribing part 6!\n",
      "Transcribing part 7!\n",
      "Transcribing part 8!\n"
     ]
    }
   ],
   "source": [
    "# Two Karpathy lecture videos\n",
    "urls = [\"https://youtu.be/kCc8FmEb1nY\", \"https://youtu.be/VMj-3S1tku0\"]\n",
    "\n",
    "# Directory to save audio files\n",
    "save_dir = \"~/Downloads/YouTube\"\n",
    "\n",
    "# Transcribe the videos to text\n",
    "if local:\n",
    "    loader = GenericLoader(\n",
    "        YoutubeAudioLoader(urls, save_dir), OpenAIWhisperParserLocal()\n",
    "    )\n",
    "else:\n",
    "    loader = GenericLoader(YoutubeAudioLoader(urls, save_dir), OpenAIWhisperParser())\n",
    "docs = loader.load()"
   ]
  },
  {
   "cell_type": "code",
   "execution_count": 7,
   "id": "6b36a672-c332-44f9-9439-68cf826322c4",
   "metadata": {},
   "outputs": [
    {
     "data": {
      "text/plain": [
       "'Hi everyone. So by now you have probably heard of ChatGPT. It has taken the world and the AI community by storm and it is a system that allows you to interact with an AI and give it text-based tasks. So for example, we can ask ChatGPT to write us a small haiku about how important it is that people understand AI and then they can use it to improve the world and make it more prosperous. So when we run this, AI knowledge brings prosperity for all to see, embrace its power. Okay, not bad. And so you'"
      ]
     },
     "execution_count": 7,
     "metadata": {},
     "output_type": "execute_result"
    }
   ],
   "source": [
    "# Returns a list of Documents, which can be easily viewed or parsed\n",
    "docs[0].page_content[0:500]"
   ]
  },
  {
   "cell_type": "code",
   "execution_count": 8,
   "id": "68f91f78-9bfa-43d4-9593-0fdd1fa3d59e",
   "metadata": {},
   "outputs": [],
   "source": [
    "from langchain_community.document_loaders import WebBaseLoader"
   ]
  },
  {
   "cell_type": "code",
   "execution_count": 9,
   "id": "ce3c3fe3-7631-4fd3-b99e-ff1f96c11291",
   "metadata": {},
   "outputs": [],
   "source": [
    "loader = WebBaseLoader(\"https://github.com/openai/openai-python/discussions/742\")"
   ]
  },
  {
   "cell_type": "code",
   "execution_count": 10,
   "id": "e0521aed-8049-4f0c-8451-eaef9b2e8c85",
   "metadata": {},
   "outputs": [],
   "source": [
    "docs = loader.load()"
   ]
  },
  {
   "cell_type": "code",
   "execution_count": 11,
   "id": "a0e0c77a-cd6a-4322-93bb-060de2170dfb",
   "metadata": {},
   "outputs": [
    {
     "name": "stdout",
     "output_type": "stream",
     "text": [
      "\n",
      "\n",
      "\n",
      "\n",
      "\n",
      "\n",
      "\n",
      "\n",
      "\n",
      "\n",
      "\n",
      "\n",
      "\n",
      "\n",
      "\n",
      "\n",
      "\n",
      "\n",
      "\n",
      "\n",
      "\n",
      "\n",
      "\n",
      "\n",
      "\n",
      "\n",
      "\n",
      "\n",
      "\n",
      "\n",
      "\n",
      "\n",
      "\n",
      "\n",
      "\n",
      "\n",
      "\n",
      "\n",
      "\n",
      "\n",
      "\n",
      "\n",
      "\n",
      "\n",
      "\n",
      "\n",
      "\n",
      "\n",
      "\n",
      "\n",
      "\n",
      "\n",
      "\n",
      "\n",
      "\n",
      "\n",
      "\n",
      "\n",
      "\n",
      "v1.0.0 Migration Guide · openai/openai-python · Discussion #742 · GitHub\n",
      "\n",
      "\n",
      "\n",
      "\n",
      "\n",
      "\n",
      "\n",
      "\n",
      "\n",
      "\n",
      "\n",
      "\n",
      "\n",
      "\n",
      "\n",
      "\n",
      "\n",
      "\n",
      "\n",
      "\n",
      "\n",
      "\n",
      "\n",
      "\n",
      "\n",
      "\n",
      "\n",
      "\n",
      "\n",
      "\n",
      "\n",
      "\n",
      "\n",
      "\n",
      "\n",
      "\n",
      "\n",
      "\n",
      "\n",
      "\n",
      "\n",
      "\n",
      "\n",
      "\n",
      "\n",
      "\n",
      "\n",
      "\n",
      "\n",
      "Skip to content\n",
      "\n",
      "\n",
      "\n",
      "\n",
      "\n",
      "\n",
      "\n",
      "\n",
      "\n",
      "\n",
      "\n",
      "\n",
      "\n",
      "\n",
      "\n",
      "\n",
      "\n",
      "\n",
      "\n",
      "Toggle navigation\n",
      "\n",
      "\n",
      "\n",
      "\n",
      "\n",
      "\n",
      "\n",
      "\n",
      "\n",
      "\n",
      "          Sign in\n",
      "        \n",
      "\n",
      "\n",
      " \n",
      "\n",
      "\n",
      "\n",
      "\n",
      "\n",
      "\n",
      "\n",
      "\n",
      "\n",
      "\n",
      "\n",
      "\n",
      "\n",
      "        Product\n",
      "        \n",
      "\n",
      "\n",
      "\n",
      "\n",
      "\n",
      "\n",
      "\n",
      "\n",
      "\n",
      "\n",
      "\n",
      "\n",
      "Actions\n",
      "        Automate any workflow\n",
      "      \n",
      "\n",
      "\n",
      "\n",
      "\n",
      "\n",
      "\n",
      "\n",
      "Packages\n",
      "        Host and manage packages\n",
      "      \n",
      "\n",
      "\n",
      "\n",
      "\n",
      "\n",
      "\n",
      "\n",
      "Security\n",
      "        Find and fix vulnerabilities\n",
      "      \n",
      "\n",
      "\n",
      "\n",
      "\n",
      "\n",
      "\n",
      "\n",
      "Codespa\n"
     ]
    }
   ],
   "source": [
    "print(docs[0].page_content[:500])"
   ]
  },
  {
   "cell_type": "code",
   "execution_count": 13,
   "id": "ee723bcf-71ce-4f77-876d-b629962f525e",
   "metadata": {},
   "outputs": [],
   "source": [
    "from langchain_community.document_loaders import NotionDirectoryLoader"
   ]
  },
  {
   "cell_type": "code",
   "execution_count": 14,
   "id": "934e1198-c6d1-4f4e-8a4b-bf37d52da434",
   "metadata": {},
   "outputs": [],
   "source": [
    "loader = NotionDirectoryLoader(\"Notion_DB\")"
   ]
  },
  {
   "cell_type": "code",
   "execution_count": 15,
   "id": "105c7b2e-43d2-4e5a-87c9-3451c24176f3",
   "metadata": {},
   "outputs": [],
   "source": [
    "docs = loader.load()"
   ]
  },
  {
   "cell_type": "code",
   "execution_count": 16,
   "id": "fb7f8fc0-a3a7-4190-9d85-10d10d75c696",
   "metadata": {},
   "outputs": [
    {
     "name": "stdout",
     "output_type": "stream",
     "text": [
      "# CS589 Week 6 Homework 1 Problem: Langchain API Upgrade\n",
      "\n",
      "Student Name: Chenxin Cao\n",
      "\n",
      "Student ID: 19940\n",
      "\n",
      "Date: 03/02/2024\n",
      "\n",
      "# Problem\n",
      "\n",
      "The [original code](https://hc.labnet.sfbu.edu/~henry/sfbu/course/d\n"
     ]
    },
    {
     "data": {
      "text/plain": [
       "{'source': 'Notion_DB/CS589 Week 6 Homework 1 Problem Langchain API Upgr 62d73aa6194549fcbf5b076f5b984d7f.md'}"
      ]
     },
     "execution_count": 16,
     "metadata": {},
     "output_type": "execute_result"
    }
   ],
   "source": [
    "print(docs[0].page_content[0:200])\n",
    "\n",
    "\n",
    "docs[0].metadata"
   ]
  },
  {
   "cell_type": "code",
   "execution_count": null,
   "id": "7fd622f4-ca37-4440-ad74-c2a3e8a0ef1c",
   "metadata": {},
   "outputs": [],
   "source": []
  }
 ],
 "metadata": {
  "kernelspec": {
   "display_name": "Python 3 (ipykernel)",
   "language": "python",
   "name": "python3"
  },
  "language_info": {
   "codemirror_mode": {
    "name": "ipython",
    "version": 3
   },
   "file_extension": ".py",
   "mimetype": "text/x-python",
   "name": "python",
   "nbconvert_exporter": "python",
   "pygments_lexer": "ipython3",
   "version": "3.11.6"
  }
 },
 "nbformat": 4,
 "nbformat_minor": 5
}
